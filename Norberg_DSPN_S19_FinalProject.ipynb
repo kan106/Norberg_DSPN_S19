{
 "cells": [
  {
   "attachments": {},
   "cell_type": "markdown",
   "metadata": {},
   "source": [
    "# Under the influence of connectives: How connective location and clause order affect retention of text"
   ]
  },
  {
   "cell_type": "markdown",
   "metadata": {},
   "source": [
    "## Background"
   ]
  },
  {
   "attachments": {},
   "cell_type": "markdown",
   "metadata": {},
   "source": [
    "Causal connectives (e.g. because) provide information about the type of relationship that exists between two sentences. However, readers can still infer relationships between clauses without connectives even though such sentences are considered less cohesive and lead to greater processing difficulty. In fact, McNamara et al. (1996) suggested that readers may benefit from less coherent text precisely because the reader must spend additional resources generating the inference on their own. However, this is dependent upon the readers’ ability to make the inference the author intended. We investigated a potential trade-off whereby less cohesive sentences may promote memory for details but at the expense of generating accurate inferences about their relationship. Participants read short expository passages while their eye-movements were tracked. Within the passages, we varied the inclusion of a connective, the order of the clauses (cause-effect versus effect-cause), and the location of the connective (e.g. Because can occur at the beginning or in the middle of a sentence). After reading all of the passages, participants took a memory test asking them to select a correct causal inference and a correct detail for each passage.  The results from such manipulations will add to an understanding of how processing difficulty interacts with inference generation, comprehension, and memory."
   ]
  },
  {
   "cell_type": "markdown",
   "metadata": {},
   "source": [
    "## Variables"
   ]
  },
  {
   "cell_type": "markdown",
   "metadata": {},
   "source": [
    "### Independent Variables\n",
    "All observations involving participant numbers are estimates based 84 participants. Collection is ongoing)"
   ]
  },
  {
   "cell_type": "markdown",
   "metadata": {},
   "source": [
    "<b>Connective Location</b> (Beginning of sentence, Middle of sentence, or Absent from the sentence)<br />\n",
    "    Data Type: Qualitative<br />\n",
    "    Location or presence of the connective within the larger text<br />\n",
    "    Observations for each within list (20).<br />\n",
    "    Observations across lists (120)<br />\n",
    "    Observations seen by participants (1680)<br />\n",
    "    Effects Coded to compare Beginning vs Middle and Connective vs Absent<br />"
   ]
  },
  {
   "cell_type": "markdown",
   "metadata": {},
   "source": [
    "<b>Order of Clauses</b> (Cause-Effect, Effect-Cause)<br/>\n",
    "Data Type: Qualitative<br/>\n",
    "The order the clauses were written in (interacts with connective location inherently)<br/>\n",
    "Observations for each within list (30)<br/>\n",
    "Observations across lists (180)<br/>\n",
    "Observations seen by participants (2520)<br/>\n",
    "Sum Coded to compare Cause-Effect vs Effect-Cause<br/>"
   ]
  },
  {
   "cell_type": "markdown",
   "metadata": {},
   "source": [
    "<b>Detail Location</b> (Detail written into the cause or the effect clause)<br/>\n",
    "Data Type: Qualitative<br/>\n",
    "Details could go in the cause or effect clause. This was counterbalanced between items and is not variable of interests. The plan is to collapse across this.<br/>\n",
    "Observations for each within list (30)<br/>\n",
    "Observations seen by participants (2520)<br/>\n",
    "Not included in model<br/>"
   ]
  },
  {
   "cell_type": "markdown",
   "metadata": {},
   "source": [
    "<b>ID</b> (Participant ID) -- Qualitative -- 84 participants. Number of observations depends on variable. Included as a random effect."
   ]
  },
  {
   "cell_type": "markdown",
   "metadata": {},
   "source": [
    "<b>Question Number </b> -- Qualitative -- 60 questions for each of 3 DVs. 5,040 observations for each DV. Included as a random effect"
   ]
  },
  {
   "cell_type": "markdown",
   "metadata": {},
   "source": [
    "### Dependent Variables"
   ]
  },
  {
   "cell_type": "markdown",
   "metadata": {},
   "source": [
    "<b> Inferences Memory Probe </b> (1 for correct, 0 for incorrect)<br/>\n",
    "Data Type: Qualitative<br/>\n",
    "After reading all of the passages, participants answered 60 memory probes about each of the critical passages.<br/>\n",
    "Observations: 5,040<br/>"
   ]
  },
  {
   "cell_type": "markdown",
   "metadata": {},
   "source": [
    "<b>Inference Memory Probe Confidence</b> (Scale of 50-100)<br/>\n",
    "Data Type: Quantitative<br/>\n",
    "While answering the inference memory probes, participants indicated their confidence in their answer. 50 was the lower bound because there were only two answers.<br/>\n",
    "Observations: 5,040\n"
   ]
  },
  {
   "cell_type": "markdown",
   "metadata": {},
   "source": [
    "<b>Confidence Corrected Score for Inferences</b> (Scale of 0-100)<br/>\n",
    "Data Type: Quantitative<br/>\n",
    "In order to account for guessing, the participants confidence was taken into account to create a new variable. If they were correct, their Confidence became their Confidence Corrected Score. If they were incorrect, their score became 100 - Confidence. This meant if a participant got the question right, but was guessing (confidence = 50), their new score was 50. If they got the question wrong and were guessing (confidence = 50), their new score was also 50. <br/>\n",
    "Observations: 5,040.<br/>"
   ]
  },
  {
   "cell_type": "markdown",
   "metadata": {},
   "source": [
    "<b>Detail Memory Probe, Detail Memory Probe Confidence, Confidence Corrected Score for Details</b><br/>\n",
    "All three of the above variables were also collected for Detail Memory.<br/>\n",
    "Detail Memory Probes followed the Inference Memory Probes, but were the same in number, Confident for details was collected in the same manner, and a Confidence Correct Score was calculated.<br/>"
   ]
  },
  {
   "cell_type": "markdown",
   "metadata": {},
   "source": [
    "## Hypothesis "
   ]
  },
  {
   "attachments": {},
   "cell_type": "markdown",
   "metadata": {},
   "source": [
    "<b>Linear Regression for Inference Questions</b><br/>\n",
    "$$Y \\text{= Confidence Corrected Score for Inferences}$$\n",
    "$$X_1 \\text{= Connective Present vs Connective Absent} $$\n",
    "$$X_2 \\text{= Connective Beginning vs Connective End} $$\n",
    "$$X_3 \\text{= Cause-Effect vs Effect-Cause} $$\n",
    "$$Z_1 \\text{= Participant ID} $$\n",
    "$$Z_2 \\text{= Question ID} $$\n",
    "$$Y = \\beta_0 + X_1 \\beta_1 + X_2 \\beta_2 + X_3 \\beta_3 + (X_1*X_2) \\beta_4 + (X_2*X_3) \\beta_5 + (X_1*X_3) \\beta_6 + + (X_1*X_2*X_3) \\beta_7+ Z_1 \\upsilon_1 + Z_2 \\upsilon_2 + \\epsilon $$<br/>\n",
    "<br/>\n",
    "For Linear Regression for Detail Questions, repeat above but with Confidence Corrected Score for Details as the DV\n",
    "\n"
   ]
  },
  {
   "cell_type": "markdown",
   "metadata": {},
   "source": [
    "<b>Logistic Regression for Inference Questions </b>(redundant but used to satisfy constraints of class ... also good to know effects are the same in both models) <br/>\n",
    "$$Y \\text{= Inference Memory Probe}$$\n",
    "$$X_1 \\text{= Connective Present vs Connective Absent }$$\n",
    "$$X_2 \\text{= Connective Beginning vs Connective End} $$\n",
    "$$X_3 \\text{= Cause-Effect vs Effect-Cause } $$\n",
    "$$Z_1 \\text{= Participant ID }$$\n",
    "$$Z_2 = \\text{Question ID }$$\n",
    "$$ p(X) = \\frac{e^{\\beta_0 + X_1 \\beta_1 + X_2 \\beta_2 + X_3 \\beta_3 + (X_1*X_2) \\beta_4 + (X_2*X_3) \\beta_5 + (X_1*X_3) \\beta_6 ++ (X_1*X_2*X_3) \\beta_7}}{1+e^{\\beta_0 + X_1 \\beta_1 + X_2 \\beta_2 + X_3 \\beta_3 + (X_1*X_2) \\beta_4 + (X_2*X_3) \\beta_5 + (X_1*X_3) \\beta_6+ (X_1*X_2*X_3) \\beta_7}}$$\n",
    "$$\\log\\bigg(\\frac{p(X)}{1-p(X)}\\bigg) =  \\beta_0 + X_1 \\beta_1 + X_2 \\beta_2 + X_3 \\beta_3 + (X_1*X_2) \\beta_4 + (X_2*X_3) \\beta_5 + (X_1*X_3) \\beta_6 + (X_1*X_2*X_3) \\beta_7 + Z_1 \\upsilon_1 + Z_2 \\upsilon_2 + \\epsilon $$<br/><br/>\n",
    "For Logistic Regression for Detail Questions, repeat above but with Detail Memory Probe score as the DV"
   ]
  },
  {
   "attachments": {},
   "cell_type": "markdown",
   "metadata": {},
   "source": [
    "## Data Organization"
   ]
  },
  {
   "cell_type": "markdown",
   "metadata": {},
   "source": [
    "Data output came in csv file with organized by participant ID and each question number as its own column. Data was transformed to by tidy with Participant ID, Each of the described variables, and Question Number as their own columns.  See table summary below (note: This only includes 59 participants as data collection is ongoing and we haven't hit 84 yet. Observations above are for anticipated particpants.)\n"
   ]
  },
  {
   "cell_type": "code",
   "execution_count": null,
   "metadata": {},
   "outputs": [],
   "source": [
    "      ID       InferAns    InferJOL      IJolCalibrAns       QuestNum    DetAns       DetJOL       DJolCalibrAns    OrderofClauses\n",
    " 1      :  60   0: 947   Min.   : 50.00   Min.   :  0.00   1      :  60   0:1359   Min.   : 50.00   Min.   :  0.00   CE:1800       \n",
    " 2      :  60   1:2653   1st Qu.: 65.00   1st Qu.: 50.00   2      :  60   1:2241   1st Qu.: 56.00   1st Qu.: 44.00   EC:1800       \n",
    " 3      :  60            Median : 80.00   Median : 75.00   3      :  60            Median : 70.00   Median : 56.00                 \n",
    " 4      :  60            Mean   : 79.01   Mean   : 67.74   4      :  60            Mean   : 73.12   Mean   : 60.12                 \n",
    " 5      :  60            3rd Qu.: 96.00   3rd Qu.: 93.25   5      :  60            3rd Qu.: 91.00   3rd Qu.: 85.00                 \n",
    " 6      :  60            Max.   :100.00   Max.   :100.00   6      :  60            Max.   :100.00   Max.   :100.00                 \n",
    " (Other):3240            NA's   :4        NA's   :4        (Other):3240                                                            \n",
    " \n",
    " ConnectLoc  DetailLoc   \n",
    " B:1200     cause :1800  \n",
    " M:1200     effect:1800  \n",
    " N:1200"
   ]
  },
  {
   "cell_type": "code",
   "execution_count": null,
   "metadata": {},
   "outputs": [],
   "source": []
  }
 ],
 "metadata": {
  "kernelspec": {
   "display_name": "R",
   "language": "R",
   "name": "ir"
  }
 },
 "nbformat": 4,
 "nbformat_minor": 2
}
